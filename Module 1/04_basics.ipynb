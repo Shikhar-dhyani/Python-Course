{
 "cells": [
  {
   "cell_type": "markdown",
   "metadata": {},
   "source": [
    "Identation\n"
   ]
  },
  {
   "cell_type": "code",
   "execution_count": 2,
   "metadata": {},
   "outputs": [
    {
     "name": "stdout",
     "output_type": "stream",
     "text": [
      "else k andar hu mai\n"
     ]
    }
   ],
   "source": [
    "if 6==5:\n",
    "    print(\"Same hai bhai !\")\n",
    "    print(\"abhi bhi if k ander hu mai\")\n",
    "else :\n",
    "    print(\"else k andar hu mai\")\n"
   ]
  },
  {
   "cell_type": "markdown",
   "metadata": {},
   "source": [
    "IF ELSE statements :\n"
   ]
  },
  {
   "cell_type": "code",
   "execution_count": null,
   "metadata": {},
   "outputs": [],
   "source": [
    "# correct email- ShikharDhyani@gmail.com\n",
    "# password - 1234\n",
    "\n",
    "email = input(\"Apna email bata\")\n",
    "if '@' in email:\n",
    "    password = input(\"Apna passowrd bhi bata\")\n",
    "\n",
    "    if email == \"ShikharDhyani@gmail.com\" and password == \"1234\":\n",
    "        print(\"Welcome\")\n",
    "    elif email == \"ShikharDhyani@gmail.com\" and password != \"1234\":\n",
    "        print(\"Password Incorrect\")\n",
    "        password = input(\"Password fir se bol\")\n",
    "        if password == \"1234\":\n",
    "            print(\"Finally correct\")\n",
    "        else:\n",
    "            print(\"Still incorrect\")\n",
    "    else:\n",
    "        print(\"Incorrect credentials\")\n",
    "else:\n",
    "    print(\"Email galat hai sahi likho\")"
   ]
  },
  {
   "cell_type": "markdown",
   "metadata": {},
   "source": [
    "#Exercise 1\n",
    "\n",
    "Write a Python program that:\n",
    "\n",
    "Asks the user to enter their score (an integer between 0 and 100).\n",
    "Checks if the score is valid (between 0 and 100). If not, print an error message.                \n",
    "If the score is valid, determines the grade based on the following criteria:    \n",
    "\n",
    "              90-100: A    \n",
    "              80-89: B    \n",
    "              70-79: C     \n",
    "              60-69: D     \n",
    "              Below 60: F   \n",
    "\n",
    "                \n",
    "Prints the grade.      "
   ]
  },
  {
   "cell_type": "markdown",
   "metadata": {},
   "source": [
    "Exercise 2: Simple Calculator            \n",
    "Write a Python program that:          \n",
    "\n",
    "Asks the user to enter two numbers.       \n",
    "Asks the user to choose an operation from the following: +, -, *, /     \n",
    "Performs the chosen operation on the two numbers.           \n",
    "Prints the result.        \n",
    "If the user chooses an invalid operation, prints an error message.      \n",
    "If the user attempts to divide by zero, prints an error message.        "
   ]
  }
 ],
 "metadata": {
  "kernelspec": {
   "display_name": "Python 3",
   "language": "python",
   "name": "python3"
  },
  "language_info": {
   "codemirror_mode": {
    "name": "ipython",
    "version": 3
   },
   "file_extension": ".py",
   "mimetype": "text/x-python",
   "name": "python",
   "nbconvert_exporter": "python",
   "pygments_lexer": "ipython3",
   "version": "3.12.1"
  }
 },
 "nbformat": 4,
 "nbformat_minor": 2
}
