{
 "cells": [
  {
   "cell_type": "markdown",
   "metadata": {},
   "source": [
    "Literals    \n",
    "\n",
    "Literal is a raw data given in a variable. In Python. there are various types Of literals they are as follows:    \n",
    "• Numeric Literals   \n",
    "• String Literals    \n",
    "• Boolean Literals    \n",
    "• Special Literals   "
   ]
  },
  {
   "cell_type": "markdown",
   "metadata": {},
   "source": [
    "Numeric Literals\n"
   ]
  },
  {
   "cell_type": "code",
   "execution_count": 2,
   "metadata": {},
   "outputs": [
    {
     "name": "stdout",
     "output_type": "stream",
     "text": [
      "10 100 200 300\n",
      "10.5 150.0 0.0015\n",
      "3.14j 3.14 0.0\n"
     ]
    }
   ],
   "source": [
    "a = 0b1010 #Binary Literals\n",
    "b= 100    #Decimal Literal\n",
    "\n",
    "c = 0o310 #0ctaL Literal\n",
    "d = 0x12c #Hexadecimal Literal\n",
    "\n",
    "#FLoat Literal\n",
    "float_1= 10.5\n",
    "float_2 = 1.5e2\n",
    "float_3= 1.5e-3\n",
    "\n",
    "#Complex Literal\n",
    "x= 3.14j\n",
    "\n",
    "print(a, b, c, d)\n",
    "print(float_1, float_2, float_3)\n",
    "print(x, x.imag, x.real)"
   ]
  },
  {
   "cell_type": "markdown",
   "metadata": {},
   "source": [
    "String literals\n"
   ]
  },
  {
   "cell_type": "code",
   "execution_count": 4,
   "metadata": {},
   "outputs": [
    {
     "name": "stdout",
     "output_type": "stream",
     "text": [
      "This is Python\n",
      "This is Python\n",
      "C\n",
      "This a multiline string with note than one Line coda.\n",
      "😀\n",
      "raw \\n string\n"
     ]
    }
   ],
   "source": [
    "string ='This is Python'\n",
    "strings = \"This is Python\"\n",
    "char =\"C\"\n",
    "multiline_str =\"\"\"This a multiline string with note than one Line coda.\"\"\"\n",
    "unicode=u\"\\U0001f600\"\n",
    "raw_str=r\"raw \\n string\"\n",
    "print(string)\n",
    "print (strings)\n",
    "print(char)\n",
    "print (multiline_str)\n",
    "print (unicode)\n",
    "print ( raw_str)"
   ]
  },
  {
   "cell_type": "markdown",
   "metadata": {},
   "source": [
    "Boolean literal"
   ]
  },
  {
   "cell_type": "code",
   "execution_count": 6,
   "metadata": {},
   "outputs": [
    {
     "name": "stdout",
     "output_type": "stream",
     "text": [
      "a: 5 b: 16\n"
     ]
    }
   ],
   "source": [
    "a=True + 4\n",
    "b =False + 16\n",
    "print(\"a:\",a,\"b:\",b)"
   ]
  },
  {
   "cell_type": "markdown",
   "metadata": {},
   "source": [
    "Special literal"
   ]
  },
  {
   "cell_type": "code",
   "execution_count": 7,
   "metadata": {},
   "outputs": [
    {
     "name": "stdout",
     "output_type": "stream",
     "text": [
      "None\n"
     ]
    }
   ],
   "source": [
    "k=None\n",
    "print(k)"
   ]
  },
  {
   "cell_type": "markdown",
   "metadata": {},
   "source": [
    "Operators\n",
    "\n",
    "Operators are used to perform operations on variables and values. Python has the following operators:\n",
    "\n",
    "•Arithmetc operators       \n",
    "•Comparison operators              \n",
    "•logicaI operators         \n",
    "•Bitwise operators            \n",
    "•Assignment operators              \n",
    "•Identity operators                 \n",
    "•Membership operators                 "
   ]
  },
  {
   "cell_type": "code",
   "execution_count": 13,
   "metadata": {},
   "outputs": [
    {
     "name": "stdout",
     "output_type": "stream",
     "text": [
      "True\n",
      "7\n",
      "10\n",
      "3\n",
      "2.5\n",
      "1\n",
      "25\n",
      "2\n",
      "False\n"
     ]
    }
   ],
   "source": [
    "#arithmetic\n",
    "x = 5\n",
    "y = 2\n",
    "\n",
    "\n",
    "print(x + y)\n",
    "print(x * y)\n",
    "print(x - y)\n",
    "print(x / y)\n",
    "print(x % y)\n",
    "print(x ** y)\n",
    "print(x // 2)\n",
    "\n"
   ]
  },
  {
   "cell_type": "code",
   "execution_count": 14,
   "metadata": {},
   "outputs": [
    {
     "name": "stdout",
     "output_type": "stream",
     "text": [
      "True\n",
      "True\n",
      "False\n",
      "False\n",
      "False\n",
      "True\n"
     ]
    }
   ],
   "source": [
    "#comparison\n",
    "\n",
    "print(x > y)\n",
    "print(x >= y)\n",
    "print(x < y)\n",
    "print(x <= y)\n",
    "print(x == y)\n",
    "print(x != y)"
   ]
  },
  {
   "cell_type": "code",
   "execution_count": null,
   "metadata": {},
   "outputs": [],
   "source": [
    "# Logical Operators\n",
    "x =True\n",
    "y = False\n",
    "\n",
    "print(x or y)\n",
    "print(x and y)\n",
    "print(not y)\n"
   ]
  },
  {
   "cell_type": "code",
   "execution_count": 11,
   "metadata": {},
   "outputs": [
    {
     "name": "stdout",
     "output_type": "stream",
     "text": [
      "2\n",
      "3\n",
      "0\n",
      "24\n",
      "-3\n"
     ]
    }
   ],
   "source": [
    "# Bitwise\n",
    "\n",
    "x = 2\n",
    "y = 3\n",
    "\n",
    "print(x & y)\n",
    "print(x | y)\n",
    "print(x >> 2)\n",
    "print(y << 3)\n",
    "print(~x)"
   ]
  },
  {
   "cell_type": "code",
   "execution_count": 8,
   "metadata": {},
   "outputs": [
    {
     "name": "stdout",
     "output_type": "stream",
     "text": [
      "3\n",
      "6\n",
      "3\n",
      "9\n",
      "1\n"
     ]
    }
   ],
   "source": [
    "#Assignment operators\n",
    "a=3\n",
    "print(a)\n",
    "\n",
    "a += 3\n",
    "# a = a + 3\n",
    "print(a)\n",
    "\n",
    "a -= 3\n",
    "print(a)\n",
    "\n",
    "a *= 3\n",
    "print(a)\n",
    "\n",
    "a &= 3\n",
    "print(a)"
   ]
  },
  {
   "cell_type": "markdown",
   "metadata": {},
   "source": [
    "Identity Operators\n"
   ]
  },
  {
   "cell_type": "code",
   "execution_count": 2,
   "metadata": {},
   "outputs": [
    {
     "name": "stdout",
     "output_type": "stream",
     "text": [
      "True\n"
     ]
    }
   ],
   "source": [
    "a = 3\n",
    "b = 3\n",
    "\n",
    "\n",
    "print(a is b)"
   ]
  },
  {
   "cell_type": "code",
   "execution_count": 3,
   "metadata": {},
   "outputs": [
    {
     "name": "stdout",
     "output_type": "stream",
     "text": [
      "True\n"
     ]
    }
   ],
   "source": [
    "a = \"Hello\"\n",
    "b = \"Hello\"\n",
    "\n",
    "print(a is b)"
   ]
  },
  {
   "cell_type": "code",
   "execution_count": 5,
   "metadata": {},
   "outputs": [
    {
     "name": "stdout",
     "output_type": "stream",
     "text": [
      "False\n"
     ]
    }
   ],
   "source": [
    "a = [1,2,3]\n",
    "b = [1,2,3]\n",
    "\n",
    "print(a is b)"
   ]
  },
  {
   "cell_type": "code",
   "execution_count": 4,
   "metadata": {},
   "outputs": [
    {
     "name": "stdout",
     "output_type": "stream",
     "text": [
      "True\n"
     ]
    }
   ],
   "source": [
    "a = \"Helloworldaoisdjaiodj\"\n",
    "b = \"Helloworldaoisdjaiodj\"\n",
    "\n",
    "print(a is b)"
   ]
  },
  {
   "cell_type": "markdown",
   "metadata": {},
   "source": [
    "For small integers (typically from -5 to 256), Python pre-allocates memory and reuses the same objects for optimization. So, when you assign a = 3 and b = 3, both a and b refer to the same memory location for the integer 3. Hence, a is b is True.            \n",
    "\n",
    "Similarly, for short strings like \"Hello\", Python uses a technique called string interning. This means that it stores only one copy of the string in memory and reuses it, so a and b again point to the same object, and a is b is True.              \n",
    "\n",
    "However, for longer strings or strings that are not interned, Python may not use this optimization. So, when you assign a = \"Hello-world\" and b = \"Hello-world\", they might not refer to the same memory location, even though the strings are identical. Hence, a is b could be False.            \n",
    "\n",
    "The behavior can vary depending on the Python implementation and version, so it's generally safer to use == for comparing values rather than is for comparing object identities."
   ]
  },
  {
   "cell_type": "markdown",
   "metadata": {},
   "source": [
    "Membership Operators\n"
   ]
  },
  {
   "cell_type": "code",
   "execution_count": 6,
   "metadata": {},
   "outputs": [
    {
     "name": "stdout",
     "output_type": "stream",
     "text": [
      "False\n"
     ]
    }
   ],
   "source": [
    "x = \"Delhi\"\n",
    "\n",
    "print(\"D\" not in x)"
   ]
  },
  {
   "cell_type": "code",
   "execution_count": 7,
   "metadata": {},
   "outputs": [
    {
     "name": "stdout",
     "output_type": "stream",
     "text": [
      "False\n"
     ]
    }
   ],
   "source": [
    "x = (1,2,3)\n",
    "print(5 in x)"
   ]
  }
 ],
 "metadata": {
  "kernelspec": {
   "display_name": "Python 3",
   "language": "python",
   "name": "python3"
  },
  "language_info": {
   "codemirror_mode": {
    "name": "ipython",
    "version": 3
   },
   "file_extension": ".py",
   "mimetype": "text/x-python",
   "name": "python",
   "nbconvert_exporter": "python",
   "pygments_lexer": "ipython3",
   "version": "3.12.1"
  }
 },
 "nbformat": 4,
 "nbformat_minor": 2
}
